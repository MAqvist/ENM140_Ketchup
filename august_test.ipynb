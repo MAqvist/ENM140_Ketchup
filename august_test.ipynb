{
 "cells": [
  {
   "cell_type": "markdown",
   "metadata": {},
   "source": [
    "Actions each agent have to decide between: Leave or Stay "
   ]
  },
  {
   "cell_type": "code",
   "execution_count": 336,
   "metadata": {},
   "outputs": [],
   "source": [
    "import numpy as np\n",
    "\n",
    "class Agent: \n",
    "    def __init__(self, music_taste = 1, strategy = 1, nr_concerts = 3, festival_duration=9):\n",
    "        self.music_taste = music_taste\n",
    "        self.position_utility = 0\n",
    "        self.accumulated_position_utility = 0\n",
    "        self.waiting_utility_history = np.zeros(festival_duration)\n",
    "        self.strategy = strategy\n",
    "        self.position_utility_history = np.zeros(festival_duration)\n",
    "        self.concert_history = np.ones(festival_duration)*(nr_concerts-1)\n",
    "        self.concert_history[0] = 0 #start at first concert \n",
    "\n",
    "\n",
    "    \n",
    "class Concert:\n",
    "    def __init__(self, len_rows = 1, music_type = 1, capacity = 5, duration = 2, nr_of_agents = 10):\n",
    "        self.len_rows = len_rows\n",
    "        self.music_type = music_type\n",
    "        self.nr_agents = 0\n",
    "        self.nr_waiting_agents = 0\n",
    "        self.capacity = capacity\n",
    "        self.nr_rows = np.ceil(capacity/len_rows)\n",
    "        self.duration = duration #timesteps\n",
    "        self.agents = np.zeros(nr_of_agents)\n",
    "\n",
    "    def add_agent(self):\n",
    "        self.nr_agents += 1\n",
    "\n",
    "def get_placement_utility(concert):\n",
    "    placement_factor = 5\n",
    "    #continuing using sigmoid\n",
    "    #fullness = concert.nr_agents / concert.capacity\n",
    "    #sigmoid_x = 1 - fullness\n",
    "    #k = 10 #steepness of sigomid\n",
    "    #center = 0.5 #[0,1] with 0.1 happy crowd and 0.9 happy front row\n",
    "    #utility = placement_factor * 1 / ( 1 + np.exp(-k*(sigmoid_x- center)))\n",
    "\n",
    "    #stepwise by which row the agent is in, sensitive to concert row length\n",
    "    dist_from_stage = np.floor((concert.nr_agents) / concert.len_rows)\n",
    "    utility = placement_factor * (concert.nr_rows - dist_from_stage) / concert.nr_rows\n",
    "    return utility\n",
    "\n",
    "def get_time_at_concert_utility(agent):\n",
    "    utility += agent\n",
    "\n",
    "def get_waiting_utility():\n",
    "    waiting_factor = 1\n",
    "    utility = -1 * waiting_factor\n",
    "    return utility"
   ]
  },
  {
   "cell_type": "markdown",
   "metadata": {},
   "source": [
    "Strategies: Sart with defining strategies that do not depend on any history. Deterministic depending on which timestep it likes to leave"
   ]
  },
  {
   "cell_type": "code",
   "execution_count": 337,
   "metadata": {},
   "outputs": [],
   "source": [
    "def get_action(agent, timestep, max_time):\n",
    "    # Stay at the consert\n",
    "    if (agent.strategy == 1):\n",
    "        if (timestep == max_time - 1):\n",
    "            action = 'leave'\n",
    "        else:\n",
    "            action = 'stay'\n",
    "        \n",
    "    # Leave to the next concert as early as possible\n",
    "    if (agent.strategy == 2):\n",
    "        if (timestep == 0):\n",
    "            action = 'leave'\n",
    "        else:\n",
    "            print(\"Leaving agent stayed\")\n",
    "\n",
    "    # Gows in the middle of the concert\n",
    "    if (agent.strategy == 3):\n",
    "        if (timestep == 3):\n",
    "            action = 'leave'\n",
    "        else:\n",
    "            action = 'stay'\n",
    "\n",
    "    return action\n"
   ]
  },
  {
   "cell_type": "markdown",
   "metadata": {},
   "source": [
    "Inintialize variables"
   ]
  },
  {
   "cell_type": "code",
   "execution_count": null,
   "metadata": {},
   "outputs": [],
   "source": [
    "nr_of_agents = 100\n",
    "nr_concerts = 10\n",
    "concert_duration = 5"
   ]
  },
  {
   "cell_type": "code",
   "execution_count": null,
   "metadata": {},
   "outputs": [],
   "source": [
    "\n",
    "festival_duration = nr_concerts*concert_duration\n",
    "agents = []\n",
    "concerts = []\n",
    "\n",
    "for _ in range (nr_of_agents):\n",
    "    agents.append(Agent(music_taste=np.random.randint(1,4), strategy=np.random.randint(1,4), nr_concerts=nr_concerts, festival_duration = festival_duration))\n",
    "\n",
    "for _ in range(nr_concerts):\n",
    "    concerts.append(Concert(music_type=np.random.randint(1,3), capacity = nr_of_agents, duration = concert_duration, nr_of_agents = nr_of_agents))\n",
    "\n",
    "#Add all agents to the starting concerts in a random order\n",
    "shuffled_indices = np.random.permutation(nr_of_agents)\n",
    "for i in range (nr_of_agents):\n",
    "    idx = shuffled_indices[i]\n",
    "    position_utility = 0 #Starting utility is zero\n",
    "    concerts[0].add_agent() \n",
    "    concerts[0].agents[idx] = 1\n",
    "    agents[idx].position_utility = position_utility\n",
    "    agents[idx].accumulated_position_utility = position_utility\n",
    "    concerts[0].add_agent() \n"
   ]
  },
  {
   "cell_type": "markdown",
   "metadata": {},
   "source": [
    "#TODO All agents leaving during the same timestep must get the same utility"
   ]
  },
  {
   "cell_type": "code",
   "execution_count": 339,
   "metadata": {},
   "outputs": [],
   "source": [
    "def move_agent_to_next_concert(agent, idx, current_concert, next_concert, timestep, global_time):\n",
    "    timesteps_left = current_concert.duration-timestep\n",
    "    # Fill up agent's waiting utilities until the next concert\n",
    "    idx_counter = 0\n",
    "    for k in range(0,timesteps_left-1):\n",
    "        agent.waiting_utility_history[global_time+k] = get_waiting_utility() + agent.waiting_utility_history[global_time+k -1]\n",
    "        agent.position_utility_history[global_time+k] = agent.position_utility_history[global_time-1] \n",
    "        idx_counter += 1\n",
    "    agent.waiting_utility_history[global_time + timesteps_left-1] = agent.waiting_utility_history[global_time+idx_counter-1]\n",
    "    \n",
    "    # Find position utility at next concert, add to history\n",
    "    position_utility = get_placement_utility(next_concert)\n",
    "    agent.position_utility = position_utility\n",
    "    agent.position_utility_history[global_time + timesteps_left-1] = position_utility + \\\n",
    "    agent.position_utility_history[global_time-1]\n",
    "    \n",
    "    next_concert.add_agent() \n",
    "    next_concert.agents[idx] = 1"
   ]
  },
  {
   "cell_type": "code",
   "execution_count": null,
   "metadata": {},
   "outputs": [],
   "source": [
    "global_time = 0\n",
    "for concert_idx in range(0,len(concerts)-1):\n",
    "    current_concert = concerts[concert_idx]\n",
    "    next_concert = concerts[concert_idx + 1]\n",
    "    #next_next_concert = concerts[ i + 2]\n",
    "\n",
    "    for timestep in range(0,current_concert.duration):\n",
    "        # Update time\n",
    "        global_time += 1\n",
    "        shuffled_indices = np.random.permutation(nr_of_agents)\n",
    "        for j in range (nr_of_agents):\n",
    "            idx = shuffled_indices[j]\n",
    "            \n",
    "            if (current_concert.agents[idx] == 0):  \n",
    "                # Not attending the concert \n",
    "                continue\n",
    "               \n",
    "            action = get_action(agents[idx],timestep, current_concert.duration)\n",
    "            \n",
    "            if (action == 'leave'):\n",
    "                # Leave current concert\n",
    "                current_concert.agents[idx] = 0\n",
    "                \n",
    "                for k in range(0,current_concert.duration-timestep):\n",
    "                    #Update agent's concert history\n",
    "                    agents[idx].concert_history[global_time + k] = concert_idx + 1\n",
    "\n",
    "                # Set agent up at the next concert\n",
    "                move_agent_to_next_concert(agents[idx], idx, current_concert, next_concert, timestep, global_time)\n",
    "                \n",
    "            else: #they stay at the concert one more time step\n",
    "                # Improve position utility\n",
    "                agents[idx].position_utility_history[global_time] = agents[idx].position_utility_history[global_time-1] + \\\n",
    "                agents[idx].position_utility\n",
    "                # Leave waiting utility unchanged\n",
    "                agents[idx].waiting_utility_history[global_time] = agents[idx].waiting_utility_history[global_time - 1]\n",
    "                \n",
    "                #Update agent's concert history\n",
    "                agents[idx].concert_history[global_time] = concert_idx \n",
    "                \n",
    "    # Let all agents stay at the last concert\n",
    "    if (concert_idx == nr_concerts-2):\n",
    "        for agent in agents:\n",
    "            for k in range(0,next_concert.duration):\n",
    "                agent.position_utility_history[global_time+k] = agent.position_utility_history[global_time+k-1] + \\\n",
    "                agent.position_utility\n",
    "                agent.waiting_utility_history[global_time+k] = agent.waiting_utility_history[global_time - 1]\n",
    "            "
   ]
  },
  {
   "cell_type": "code",
   "execution_count": 341,
   "metadata": {},
   "outputs": [],
   "source": [
    "# idx = 1\n",
    "# print(\"Strategy: \", agents[idx].strategy)\n",
    "# print(\"Total time steps: \", len(agents[idx].concert_history), \", Concert duration: \", concert_duration, \", Nr of concerts: \", len(concerts))\n",
    "# print(\"Arena at each timestp: \", agents[idx].concert_history)\n",
    "# print(\"Waiting utility history: \", agents[idx].waiting_utility_history)\n",
    "# print(\"Position utility history: \", agents[idx].position_utility_history)"
   ]
  },
  {
   "cell_type": "markdown",
   "metadata": {},
   "source": [
    "Some basic plots of how utility change with time"
   ]
  },
  {
   "cell_type": "code",
   "execution_count": 342,
   "metadata": {},
   "outputs": [
    {
     "data": {
      "image/png": "[encoded data removed]",
      "text/plain": [
       "<Figure size 640x480 with 1 Axes>"
      ]
     },
     "metadata": {},
     "output_type": "display_data"
    }
   ],
   "source": [
    "import matplotlib.pyplot as plt\n",
    "\n",
    "agents_strategy_stay = [agent for agent in agents if agent.strategy == 1]\n",
    "agents_strategy_leave = [agent for agent in agents if agent.strategy == 2]\n",
    "agents_strategy_middle = [agent for agent in agents if agent.strategy == 3]\n",
    "\n",
    "timesteps = np.arange(festival_duration)\n",
    "sum_utility_stay = np.zeros(festival_duration)\n",
    "sum_utility_leave = np.zeros(festival_duration)\n",
    "sum_utility_middle = np.zeros(festival_duration)\n",
    "\n",
    "# Sum utilities for strategy 1 (stay)\n",
    "for agent in agents_strategy_stay:\n",
    "    sum_utility_stay += agent.waiting_utility_history + agent.position_utility_history\n",
    "\n",
    "# Sum utilities for strategy 2 (leave)\n",
    "for agent in agents_strategy_leave:\n",
    "    sum_utility_leave += agent.waiting_utility_history + agent.position_utility_history\n",
    "\n",
    "# Sum startegy 3 (go in the middle)\n",
    "for agent in agents_strategy_middle:\n",
    "    sum_utility_middle += agent.waiting_utility_history + agent.position_utility_history\n",
    "\n",
    "plt.plot(timesteps, sum_utility_stay, label=\"Strategy 1 (Stay)\")\n",
    "plt.plot(timesteps, sum_utility_leave, label=\"Strategy 2 (Leave)\")\n",
    "plt.plot(timesteps, sum_utility_middle, label=\"Strategy 3 (Middle)\")\n",
    "plt.xlabel(\"Steps\")\n",
    "plt.ylabel(\"Sum of Utilities (Waiting + Position)\")\n",
    "plt.title(\"Cumulative Utility Over Time by Strategy\")\n",
    "plt.legend()\n",
    "plt.grid(True)\n",
    "plt.show()"
   ]
  },
  {
   "cell_type": "code",
   "execution_count": 343,
   "metadata": {},
   "outputs": [],
   "source": [
    " # elif (action == 'skip'):\n",
    "            #     agents[idx].position_history.append(agents[idx].accumulated_position_utility) #rätt tillfälle?\n",
    "            #     agents[idx].waiting_utility_history += get_waiting_utility(next_next_concert.duration)\n",
    "            #     position_utility = get_placement_utility(next_next_concert)\n",
    "            #     next_next_concert.add_agent() \n",
    "            #     next_next_concert.agents[idx] = 1\n",
    "            #     agents[idx].position_utility = position_utility\n",
    "            #     agents[idx].accumulated_position_utility = position_utility\n",
    "            #     current_concert.agents[idx] = 0\n",
    "            #     #Update agent's concert history\n",
    "            #     agents[idx].concert_history.append(i+2) #does not work\n",
    "                "
   ]
  },
  {
   "cell_type": "markdown",
   "metadata": {},
   "source": [
    "How did the simulation go?"
   ]
  },
  {
   "cell_type": "code",
   "execution_count": 344,
   "metadata": {},
   "outputs": [
    {
     "ename": "IndexError",
     "evalue": "only integers, slices (`:`), ellipsis (`...`), numpy.newaxis (`None`) and integer or boolean arrays are valid indices",
     "output_type": "error",
     "traceback": [
      "\u001b[1;31m---------------------------------------------------------------------------\u001b[0m",
      "\u001b[1;31mIndexError\u001b[0m                                Traceback (most recent call last)",
      "Cell \u001b[1;32mIn[344], line 13\u001b[0m\n\u001b[0;32m     11\u001b[0m     t \u001b[38;5;241m=\u001b[39m \u001b[38;5;241m0\u001b[39m\n\u001b[0;32m     12\u001b[0m     \u001b[38;5;28;01mfor\u001b[39;00m i \u001b[38;5;129;01min\u001b[39;00m agent:\n\u001b[1;32m---> 13\u001b[0m         A[i, t] \u001b[38;5;241m+\u001b[39m\u001b[38;5;241m=\u001b[39m \u001b[38;5;241m1\u001b[39m\n\u001b[0;32m     14\u001b[0m         t \u001b[38;5;241m+\u001b[39m\u001b[38;5;241m=\u001b[39m \u001b[38;5;241m1\u001b[39m\n\u001b[0;32m     16\u001b[0m graph \u001b[38;5;241m=\u001b[39m BarGraph(A)\n",
      "\u001b[1;31mIndexError\u001b[0m: only integers, slices (`:`), ellipsis (`...`), numpy.newaxis (`None`) and integer or boolean arrays are valid indices"
     ]
    }
   ],
   "source": [
    "from graphs import BarGraph\n",
    "A = np.zeros([nr_concerts, int(nr_concerts*concerts[0].duration)])\n",
    "\n",
    "agent_concert = []\n",
    "\n",
    "# Make dataset\n",
    "for agent in agents:\n",
    "    agent_concert.append(agent.concert_history)\n",
    "\n",
    "for agent in agent_concert:\n",
    "    t = 0\n",
    "    for i in agent:\n",
    "        A[i, t] += 1\n",
    "        t += 1\n",
    "\n",
    "graph = BarGraph(A)\n",
    "graph.plot_data(5)"
   ]
  },
  {
   "cell_type": "code",
   "execution_count": null,
   "metadata": {},
   "outputs": [],
   "source": [
    "sorted_agents = sorted(agents, key=lambda agent: sum(agent.position_history) + agent.waiting_utility, reverse=True)\n",
    "for i in range (nr_of_agents):\n",
    "    print(\"Utility: \", sum(sorted_agents[i].position_history) + sorted_agents[i].waiting_utility, \", Strategy: \", sorted_agents[i].strategy)"
   ]
  }
 ],
 "metadata": {
  "kernelspec": {
   "display_name": "base",
   "language": "python",
   "name": "python3"
  },
  "language_info": {
   "codemirror_mode": {
    "name": "ipython",
    "version": 3
   },
   "file_extension": ".py",
   "mimetype": "text/x-python",
   "name": "python",
   "nbconvert_exporter": "python",
   "pygments_lexer": "ipython3",
   "version": "3.9.7"
  }
 },
 "nbformat": 4,
 "nbformat_minor": 2
}
