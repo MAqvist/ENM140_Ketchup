{
 "cells": [
  {
   "cell_type": "markdown",
   "metadata": {},
   "source": [
    "Actions each agent have to decide between: Leave or Stay "
   ]
  },
  {
   "cell_type": "code",
   "execution_count": null,
   "metadata": {},
   "outputs": [],
   "source": [
    "import numpy as np\n",
    "\n",
    "class Agent: \n",
    "    def __init__(self, music_taste = 1, strategy = 1):\n",
    "        self.music_taste = music_taste\n",
    "        self.position = 0\n",
    "        self.position_utility = 0\n",
    "        self.waiting_utility = 0\n",
    "        self.strategy = strategy\n",
    "        self.position_history = []\n",
    "\n",
    "    \n",
    "class Concert:\n",
    "    def __init__(self, len_rows = 10, music_type = 1, capacity = 100, duration = 5):\n",
    "        self.len_rows = len_rows\n",
    "        self.music_type = music_type\n",
    "        self.nr_agents = 0\n",
    "        self.capacity = capacity\n",
    "        self.nr_rows = np.ceil(capacity/len_rows)\n",
    "        self.duration = duration #timesteps\n",
    "\n",
    "    def add_agent(self):\n",
    "        self.nr_agents += 1\n",
    "\n",
    "def get_placement_utility(concert):\n",
    "    placement_factor = 200\n",
    "    #continuing using sigmoid\n",
    "    fullness = concert.nr_agents / concert.capacity\n",
    "    sigmoid_x = 1 - fullness\n",
    "    k = 10 #steepness of sigomid\n",
    "    center = 0.5 #[0,1] with 0.1 happy crowd and 0.9 happy front row\n",
    "    utility = placement_factor * 1 / ( 1 + np.exp(-k*(sigmoid_x- center)))\n",
    "\n",
    "    #stepwise by which row the agent is in, sensitive to concert row length\n",
    "    dist_from_stage = np.floor((concert.nr_agents + 1) / concert.len_rows)\n",
    "    #utility = concert.capacity - (dist_from_stage*concert.nr_rows)\n",
    "    return utility\n",
    "\n",
    "def get_time_at_concert_utility(agent):\n",
    "    utility += agent\n",
    "\n",
    "def get_waiting_utility(time):\n",
    "    waiting_factor = 2\n",
    "    utility = -time * waiting_factor\n",
    "    return utility"
   ]
  },
  {
   "cell_type": "markdown",
   "metadata": {},
   "source": [
    "Strategies: Sart with defining strategies that do not depend on any history. Deterministic depending on which timestep it likes to leave"
   ]
  },
  {
   "cell_type": "code",
   "execution_count": 9,
   "metadata": {},
   "outputs": [],
   "source": [
    "def get_action(agent, timestep, max_timesteps):\n",
    "    # The one that likes to stay at the consert\n",
    "    if (agent.strategy == 1):\n",
    "        if (timestep/max_timesteps <= 0.6):\n",
    "            action = 'stay'\n",
    "        else:\n",
    "            action = 'leave'\n",
    "        \n",
    "    # The one that likes to leave to the next consert\n",
    "    if (agent.strategy == 2):\n",
    "        if (timestep/max_timesteps >= 0.2):\n",
    "            action = 'leave'\n",
    "        else:\n",
    "            action = 'stay'\n",
    "\n",
    "    # The lagom one\n",
    "    if (agent.strategy == 3):\n",
    "        if (timestep/max_timesteps <= 0.5):\n",
    "            action = 'leave'\n",
    "        else:\n",
    "            action = 'stay'\n",
    "\n",
    "    return action\n"
   ]
  },
  {
   "cell_type": "markdown",
   "metadata": {},
   "source": [
    "Inintialize agents and concerts "
   ]
  },
  {
   "cell_type": "code",
   "execution_count": null,
   "metadata": {},
   "outputs": [],
   "source": [
    "nr_of_agents = 20\n",
    "agents = []\n",
    "\n",
    "nr_conserts = 10\n",
    "concerts = []\n",
    "\n",
    "for _ in range (nr_of_agents):\n",
    "    agents.append(Agent(music_taste=np.random.randint(1,4), strategy=np.random.randint(1,4)))\n",
    "\n",
    "for _ in range(nr_conserts):\n",
    "    concerts.append(Concert(len_rows=10, music_type=np.random.randint(1,3), capacity = 5))\n",
    "\n",
    "#Add all agents to the starting concerts in a random order\n",
    "shuffled_indices = np.random.permutation(nr_of_agents)\n",
    "for i in range (nr_of_agents):\n",
    "    idx = shuffled_indices[i]\n",
    "    position_utility = 0 #get_placement_utility(concerts[0])\n",
    "    concerts[0].add_agent() \n",
    "    agents[idx].position_utility = position_utility\n",
    "    agents[idx].position_history.append(position_utility)\n",
    "    concerts[0].add_agent() \n"
   ]
  },
  {
   "cell_type": "code",
   "execution_count": 15,
   "metadata": {},
   "outputs": [],
   "source": [
    "for i in range(0,len(concerts)-2):  # assume everyone stays at the last concert\n",
    "    current_concert = concerts[i]\n",
    "    next_concert = concerts[i + 1]\n",
    "\n",
    "    counter = 0\n",
    "    already_left = set()\n",
    "\n",
    "    for timestep in range(0,current_concert.duration):\n",
    "        shuffled_indices = np.random.permutation(nr_of_agents)\n",
    "        for j in range (nr_of_agents):\n",
    "            idx = shuffled_indices[j]\n",
    "            if idx in already_left:\n",
    "                continue\n",
    "\n",
    "            action = get_action(agents[idx],timestep,current_concert.duration)\n",
    "            if (action == 'leave'):\n",
    "                agents[idx].waiting_utility += get_waiting_utility(current_concert.duration - timestep) \n",
    "                position_utility = get_placement_utility(next_concert)\n",
    "                next_concert.add_agent() #TODO: ability to skip a concert\n",
    "                agents[idx].position_utility = position_utility\n",
    "                agents[idx].position_history.append(position_utility)\n",
    "                #TODO: add utility for staying at a concert\n",
    "                # at the same time, escaping negative waiting utlility is the same\n",
    "\n",
    "                already_left.add(idx)\n",
    "                counter += 1\n",
    "    #print(counter)"
   ]
  },
  {
   "cell_type": "markdown",
   "metadata": {},
   "source": [
    "How did the simulation go?"
   ]
  },
  {
   "cell_type": "code",
   "execution_count": 16,
   "metadata": {},
   "outputs": [
    {
     "name": "stdout",
     "output_type": "stream",
     "text": [
      "Utility:  915.8732907829965 , Strategy:  2\n",
      "Utility:  634.2736041513649 , Strategy:  2\n",
      "Utility:  631.6031443503902 , Strategy:  2\n",
      "Utility:  500.20791528993084 , Strategy:  2\n",
      "Utility:  440.58908674159886 , Strategy:  2\n",
      "Utility:  438.0974968951348 , Strategy:  2\n",
      "Utility:  381.8732478926173 , Strategy:  2\n",
      "Utility:  336.098715660789 , Strategy:  2\n",
      "Utility:  -15.998635522009877 , Strategy:  1\n",
      "Utility:  -15.998643802633989 , Strategy:  1\n",
      "Utility:  -15.999399593541325 , Strategy:  1\n",
      "Utility:  -15.999547779895167 , Strategy:  1\n",
      "Utility:  -15.999808027034863 , Strategy:  1\n",
      "Utility:  -15.99993545471546 , Strategy:  1\n",
      "Utility:  -15.99993862401961 , Strategy:  1\n",
      "Utility:  -15.999938641021785 , Strategy:  1\n",
      "Utility:  -15.999981972563004 , Strategy:  1\n",
      "Utility:  -15.999991526997535 , Strategy:  1\n",
      "Utility:  -15.999996486555432 , Strategy:  1\n",
      "Utility:  -52.9346662572462 , Strategy:  2\n"
     ]
    }
   ],
   "source": [
    "sorted_agents = sorted(agents, key=lambda agent: sum(agent.position_history) + agent.waiting_utility, reverse=True)\n",
    "for i in range (nr_of_agents):\n",
    "    print(\"Utility: \", sum(sorted_agents[i].position_history) + sorted_agents[i].waiting_utility, \", Strategy: \", sorted_agents[i].strategy)"
   ]
  },
  {
   "cell_type": "code",
   "execution_count": null,
   "metadata": {},
   "outputs": [],
   "source": [
    "agents_1 = []\n",
    "agents_2 = []\n",
    "agents_3 = []\n",
    "for agent in agents:\n",
    "    if agent.strategy == 1 : \n",
    "        agents_1.append(agent)\n",
    "    elif agent.strategy == 2:\n",
    "        agents_2.append(agent)\n",
    "    else:\n",
    "        agents_3.append(agent)\n",
    "\n",
    "agents_1_utility = [0]\n",
    "agents_2_utility = [0]\n",
    "agents_3_utility = [0]\n",
    "\n",
    "for i in range(0,nr_conserts-1):\n",
    "    #undone\n",
    "    sum(agents_1[:].position_history[i])"
   ]
  }
 ],
 "metadata": {
  "kernelspec": {
   "display_name": ".venv",
   "language": "python",
   "name": "python3"
  },
  "language_info": {
   "codemirror_mode": {
    "name": "ipython",
    "version": 3
   },
   "file_extension": ".py",
   "mimetype": "text/x-python",
   "name": "python",
   "nbconvert_exporter": "python",
   "pygments_lexer": "ipython3",
   "version": "3.12.3"
  }
 },
 "nbformat": 4,
 "nbformat_minor": 2
}
