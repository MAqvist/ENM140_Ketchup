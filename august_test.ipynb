{
 "cells": [
  {
   "cell_type": "markdown",
   "metadata": {},
   "source": [
    "Actions each agent have to decide between: Leave or Stay "
   ]
  },
  {
   "cell_type": "code",
   "execution_count": 1,
   "metadata": {},
   "outputs": [],
   "source": [
    "import numpy as np\n",
    "\n",
    "class Agent: \n",
    "    def __init__(self, music_taste = 1, strategy = 1, nr_concerts = 3, festival_duration=9):\n",
    "        self.music_taste = music_taste\n",
    "        self.position_utility = 0\n",
    "        self.accumulated_position_utility = 0\n",
    "        self.waiting_utility = 0\n",
    "        self.strategy = strategy\n",
    "        self.position_history = []\n",
    "        self.concert_history = np.ones(festival_duration)*(nr_concerts-1)\n",
    "        self.concert_history[0] = 0\n",
    "\n",
    "\n",
    "    \n",
    "class Concert:\n",
    "    def __init__(self, len_rows = 1, music_type = 1, capacity = 5, duration = 2, nr_of_agents = 10):\n",
    "        self.len_rows = len_rows\n",
    "        self.music_type = music_type\n",
    "        self.nr_agents = 0\n",
    "        self.nr_waiting_agents = 0\n",
    "        self.capacity = capacity\n",
    "        self.nr_rows = np.ceil(capacity/len_rows)\n",
    "        self.duration = duration #timesteps\n",
    "        self.agents = np.zeros(nr_of_agents)\n",
    "\n",
    "    def add_agent(self):\n",
    "        self.nr_agents += 1\n",
    "\n",
    "def get_placement_utility(concert):\n",
    "    placement_factor = 5\n",
    "    #continuing using sigmoid\n",
    "    #fullness = concert.nr_agents / concert.capacity\n",
    "    #sigmoid_x = 1 - fullness\n",
    "    #k = 10 #steepness of sigomid\n",
    "    #center = 0.5 #[0,1] with 0.1 happy crowd and 0.9 happy front row\n",
    "    #utility = placement_factor * 1 / ( 1 + np.exp(-k*(sigmoid_x- center)))\n",
    "\n",
    "    #stepwise by which row the agent is in, sensitive to concert row length\n",
    "    dist_from_stage = np.floor((concert.nr_agents) / concert.len_rows)\n",
    "    utility = placement_factor * (concert.nr_rows - dist_from_stage) / concert.nr_rows\n",
    "    return utility\n",
    "\n",
    "def get_time_at_concert_utility(agent):\n",
    "    utility += agent\n",
    "\n",
    "def get_waiting_utility(time):\n",
    "    waiting_factor = 1\n",
    "    utility = -time * waiting_factor\n",
    "    return utility"
   ]
  },
  {
   "cell_type": "markdown",
   "metadata": {},
   "source": [
    "Strategies: Sart with defining strategies that do not depend on any history. Deterministic depending on which timestep it likes to leave"
   ]
  },
  {
   "cell_type": "code",
   "execution_count": 2,
   "metadata": {},
   "outputs": [],
   "source": [
    "def get_action(agent, timestep, max_time):\n",
    "    # Stay at the consert\n",
    "    if (agent.strategy == 1):\n",
    "        if (timestep == max_time - 1):\n",
    "            action = 'leave'\n",
    "        else:\n",
    "            action = 'stay'\n",
    "        \n",
    "    # Leave to the next concert as early as possible\n",
    "    if (agent.strategy == 2):\n",
    "        if (timestep == 0):\n",
    "            action = 'leave'\n",
    "        else:\n",
    "            print(\"Leaving agent stayed\")\n",
    "\n",
    "    # The one that likes to skip concerts \n",
    "    if (agent.strategy == 3):\n",
    "        if (timestep < 1):\n",
    "            action = 'stay'\n",
    "        else:\n",
    "            action = 'skip'\n",
    "\n",
    "    return action\n"
   ]
  },
  {
   "cell_type": "markdown",
   "metadata": {},
   "source": [
    "Inintialize agents and concerts "
   ]
  },
  {
   "cell_type": "code",
   "execution_count": 3,
   "metadata": {},
   "outputs": [],
   "source": [
    "nr_of_agents = 100\n",
    "agents = []\n",
    "\n",
    "nr_concerts = 5\n",
    "concert_duration = 3\n",
    "festival_duration = nr_concerts*concert_duration\n",
    "concerts = []\n",
    "\n",
    "for _ in range (nr_of_agents):\n",
    "    agents.append(Agent(music_taste=np.random.randint(1,4), strategy=np.random.randint(1,3), nr_concerts=nr_concerts, festival_duration = festival_duration))\n",
    "\n",
    "for _ in range(nr_concerts):\n",
    "    concerts.append(Concert(music_type=np.random.randint(1,3), capacity = nr_of_agents, duration = concert_duration, nr_of_agents = nr_of_agents))\n",
    "\n",
    "#Add all agents to the starting concerts in a random order\n",
    "shuffled_indices = np.random.permutation(nr_of_agents)\n",
    "for i in range (nr_of_agents):\n",
    "    idx = shuffled_indices[i]\n",
    "    position_utility = 0 #get_placement_utility(concerts[0])\n",
    "    concerts[0].add_agent() \n",
    "    concerts[0].agents[idx] = 1\n",
    "    agents[idx].position_utility = position_utility\n",
    "    agents[idx].accumulated_position_utility = position_utility\n",
    "    concerts[0].add_agent() \n"
   ]
  },
  {
   "cell_type": "code",
   "execution_count": null,
   "metadata": {},
   "outputs": [],
   "source": []
  },
  {
   "cell_type": "markdown",
   "metadata": {},
   "source": [
    "#TODO All agents leaving during the same timestep must get the same utility"
   ]
  },
  {
   "cell_type": "code",
   "execution_count": 4,
   "metadata": {},
   "outputs": [],
   "source": [
    "def move_agent_to_next_concert(agent, idx, current_concert, next_concert, timestep):\n",
    "    # Set agent up at the next concert\n",
    "    agent.waiting_utility += get_waiting_utility(current_concert.duration - timestep) \n",
    "    position_utility = get_placement_utility(next_concert)\n",
    "    next_concert.add_agent() \n",
    "    next_concert.agents[idx] = 1\n",
    "    agent.position_utility = position_utility\n",
    "    agent.accumulated_position_utility = position_utility"
   ]
  },
  {
   "cell_type": "code",
   "execution_count": 5,
   "metadata": {},
   "outputs": [],
   "source": [
    "global_time = 0\n",
    "for concert_idx in range(0,len(concerts)-1):\n",
    "    current_concert = concerts[concert_idx]\n",
    "    next_concert = concerts[concert_idx + 1]\n",
    "    #next_next_concert = concerts[ i + 2]\n",
    "\n",
    "    for timestep in range(0,current_concert.duration):\n",
    "        # Update time\n",
    "        global_time += 1\n",
    "        shuffled_indices = np.random.permutation(nr_of_agents)\n",
    "        for j in range (nr_of_agents):\n",
    "            idx = shuffled_indices[j]\n",
    "            \n",
    "            if (current_concert.agents[idx] == 0):   \n",
    "                continue\n",
    "               \n",
    "            action = get_action(agents[idx],timestep, current_concert.duration)\n",
    "            \n",
    "            if (action == 'leave'):\n",
    "                # Save accumulated position utility for agent at curent concert\n",
    "                agents[idx].position_history.append(agents[idx].accumulated_position_utility) \n",
    "                # Leave current concert\n",
    "                current_concert.agents[idx] = 0\n",
    "                \n",
    "                for k in range(0,current_concert.duration-timestep):\n",
    "                    #Update agent's concert history\n",
    "                    #SOMETHING GOES WRONG HERE\n",
    "                    agents[idx].concert_history[global_time + k] = concert_idx + 1\n",
    "\n",
    "                # Set agent up at the next concert\n",
    "                move_agent_to_next_concert(agents[idx], idx, current_concert, next_concert, timestep)\n",
    "                \n",
    "            else: #they stay at the concert one more time step\n",
    "                agents[idx].accumulated_position_utility += agents[idx].position_utility\n",
    "                #Update agent's concert history\n",
    "                agents[idx].concert_history[global_time] = concert_idx \n",
    "                \n",
    "        "
   ]
  },
  {
   "cell_type": "code",
   "execution_count": 6,
   "metadata": {},
   "outputs": [],
   "source": [
    "idx = 0\n",
    "if ((agents[idx].strategy) == 2):\n",
    "    print(agents[idx].strategy)\n",
    "    print(len(agents[idx].concert_history))\n",
    "    print(agents[idx].concert_history)"
   ]
  },
  {
   "cell_type": "code",
   "execution_count": 7,
   "metadata": {},
   "outputs": [],
   "source": [
    " # elif (action == 'skip'):\n",
    "            #     agents[idx].position_history.append(agents[idx].accumulated_position_utility) #rätt tillfälle?\n",
    "            #     agents[idx].waiting_utility += get_waiting_utility(next_next_concert.duration)\n",
    "            #     position_utility = get_placement_utility(next_next_concert)\n",
    "            #     next_next_concert.add_agent() \n",
    "            #     next_next_concert.agents[idx] = 1\n",
    "            #     agents[idx].position_utility = position_utility\n",
    "            #     agents[idx].accumulated_position_utility = position_utility\n",
    "            #     current_concert.agents[idx] = 0\n",
    "            #     #Update agent's concert history\n",
    "            #     agents[idx].concert_history.append(i+2) #does not work\n",
    "                "
   ]
  },
  {
   "cell_type": "markdown",
   "metadata": {},
   "source": [
    "How did the simulation go?"
   ]
  },
  {
   "cell_type": "code",
   "execution_count": 8,
   "metadata": {},
   "outputs": [
    {
     "data": {
      "image/png": "[encoded data removed]",
      "text/plain": [
       "<Figure size 900x300 with 3 Axes>"
      ]
     },
     "metadata": {},
     "output_type": "display_data"
    },
    {
     "ename": "IndexError",
     "evalue": "only integers, slices (`:`), ellipsis (`...`), numpy.newaxis (`None`) and integer or boolean arrays are valid indices",
     "output_type": "error",
     "traceback": [
      "\u001b[1;31m---------------------------------------------------------------------------\u001b[0m",
      "\u001b[1;31mIndexError\u001b[0m                                Traceback (most recent call last)",
      "Cell \u001b[1;32mIn[8], line 13\u001b[0m\n\u001b[0;32m     11\u001b[0m     t \u001b[38;5;241m=\u001b[39m \u001b[38;5;241m0\u001b[39m\n\u001b[0;32m     12\u001b[0m     \u001b[38;5;28;01mfor\u001b[39;00m i \u001b[38;5;129;01min\u001b[39;00m agent:\n\u001b[1;32m---> 13\u001b[0m         A[i, t] \u001b[38;5;241m+\u001b[39m\u001b[38;5;241m=\u001b[39m \u001b[38;5;241m1\u001b[39m\n\u001b[0;32m     14\u001b[0m         t \u001b[38;5;241m+\u001b[39m\u001b[38;5;241m=\u001b[39m \u001b[38;5;241m1\u001b[39m\n\u001b[0;32m     16\u001b[0m graph \u001b[38;5;241m=\u001b[39m BarGraph(A)\n",
      "\u001b[1;31mIndexError\u001b[0m: only integers, slices (`:`), ellipsis (`...`), numpy.newaxis (`None`) and integer or boolean arrays are valid indices"
     ]
    }
   ],
   "source": [
    "from graphs import BarGraph\n",
    "A = np.zeros([nr_concerts, int(nr_concerts*concerts[0].duration)])\n",
    "\n",
    "agent_concert = []\n",
    "\n",
    "# Make dataset\n",
    "for agent in agents:\n",
    "    agent_concert.append(agent.concert_history)\n",
    "\n",
    "for agent in agent_concert:\n",
    "    t = 0\n",
    "    for i in agent:\n",
    "        A[i, t] += 1\n",
    "        t += 1\n",
    "\n",
    "graph = BarGraph(A)\n",
    "graph.plot_data(5)"
   ]
  },
  {
   "cell_type": "code",
   "execution_count": null,
   "metadata": {},
   "outputs": [
    {
     "name": "stdout",
     "output_type": "stream",
     "text": [
      "Utility:  5.3500000000000005 , Strategy:  1\n",
      "Utility:  5.199999999999999 , Strategy:  1\n",
      "Utility:  5.050000000000001 , Strategy:  1\n",
      "Utility:  4.8999999999999995 , Strategy:  1\n",
      "Utility:  4.75 , Strategy:  1\n",
      "Utility:  4.6000000000000005 , Strategy:  1\n",
      "Utility:  4.449999999999999 , Strategy:  1\n",
      "Utility:  4.300000000000001 , Strategy:  1\n",
      "Utility:  4.1499999999999995 , Strategy:  1\n",
      "Utility:  4.0 , Strategy:  1\n",
      "Utility:  3.8499999999999996 , Strategy:  1\n",
      "Utility:  3.6999999999999993 , Strategy:  1\n",
      "Utility:  3.5500000000000007 , Strategy:  1\n",
      "Utility:  3.4000000000000004 , Strategy:  1\n",
      "Utility:  3.25 , Strategy:  1\n",
      "Utility:  3.0999999999999996 , Strategy:  1\n",
      "Utility:  2.9499999999999993 , Strategy:  1\n",
      "Utility:  2.8000000000000007 , Strategy:  1\n",
      "Utility:  2.6500000000000004 , Strategy:  1\n",
      "Utility:  2.5 , Strategy:  1\n",
      "Utility:  2.3499999999999996 , Strategy:  1\n",
      "Utility:  2.1999999999999993 , Strategy:  1\n",
      "Utility:  2.0500000000000007 , Strategy:  1\n",
      "Utility:  1.9000000000000004 , Strategy:  1\n",
      "Utility:  1.75 , Strategy:  1\n",
      "Utility:  1.5999999999999996 , Strategy:  1\n",
      "Utility:  1.4499999999999997 , Strategy:  1\n",
      "Utility:  1.3000000000000003 , Strategy:  1\n",
      "Utility:  1.1500000000000004 , Strategy:  1\n",
      "Utility:  1.0 , Strategy:  1\n",
      "Utility:  0.8499999999999996 , Strategy:  1\n",
      "Utility:  0.7000000000000002 , Strategy:  1\n",
      "Utility:  0.5499999999999998 , Strategy:  1\n",
      "Utility:  0.40000000000000036 , Strategy:  1\n",
      "Utility:  0.25 , Strategy:  1\n",
      "Utility:  0.09999999999999964 , Strategy:  1\n",
      "Utility:  -0.04999999999999982 , Strategy:  1\n",
      "Utility:  -0.20000000000000018 , Strategy:  1\n",
      "Utility:  -0.34999999999999987 , Strategy:  1\n",
      "Utility:  -0.5 , Strategy:  1\n",
      "Utility:  -0.6499999999999999 , Strategy:  1\n",
      "Utility:  -0.7999999999999998 , Strategy:  1\n",
      "Utility:  -0.9500000000000002 , Strategy:  1\n",
      "Utility:  -1.0 , Strategy:  2\n",
      "Utility:  -1.0499999999999998 , Strategy:  2\n",
      "Utility:  -1.0999999999999996 , Strategy:  2\n",
      "Utility:  -1.1 , Strategy:  1\n",
      "Utility:  -1.1500000000000004 , Strategy:  2\n",
      "Utility:  -1.2000000000000002 , Strategy:  2\n",
      "Utility:  -1.25 , Strategy:  2\n",
      "Utility:  -1.25 , Strategy:  1\n",
      "Utility:  -1.2999999999999998 , Strategy:  2\n",
      "Utility:  -1.3499999999999996 , Strategy:  2\n",
      "Utility:  -1.4 , Strategy:  1\n",
      "Utility:  -1.4000000000000004 , Strategy:  2\n",
      "Utility:  -1.4500000000000002 , Strategy:  2\n",
      "Utility:  -1.5 , Strategy:  2\n",
      "Utility:  -1.5499999999999998 , Strategy:  2\n",
      "Utility:  -1.55 , Strategy:  1\n",
      "Utility:  -1.5999999999999996 , Strategy:  2\n",
      "Utility:  -1.6500000000000004 , Strategy:  2\n",
      "Utility:  -1.7 , Strategy:  1\n",
      "Utility:  -1.7000000000000002 , Strategy:  2\n",
      "Utility:  -1.75 , Strategy:  2\n",
      "Utility:  -1.7999999999999998 , Strategy:  2\n",
      "Utility:  -1.8499999999999996 , Strategy:  2\n",
      "Utility:  -1.85 , Strategy:  1\n",
      "Utility:  -1.9000000000000004 , Strategy:  2\n",
      "Utility:  -1.9500000000000002 , Strategy:  2\n",
      "Utility:  -2.0 , Strategy:  2\n",
      "Utility:  -2.05 , Strategy:  2\n",
      "Utility:  -2.1 , Strategy:  2\n",
      "Utility:  -2.15 , Strategy:  2\n",
      "Utility:  -2.2 , Strategy:  2\n",
      "Utility:  -2.25 , Strategy:  2\n",
      "Utility:  -2.3 , Strategy:  2\n",
      "Utility:  -2.35 , Strategy:  2\n",
      "Utility:  -2.4 , Strategy:  2\n",
      "Utility:  -2.45 , Strategy:  2\n",
      "Utility:  -2.5 , Strategy:  2\n",
      "Utility:  -2.55 , Strategy:  2\n",
      "Utility:  -2.6 , Strategy:  2\n",
      "Utility:  -2.65 , Strategy:  2\n",
      "Utility:  -2.7 , Strategy:  2\n",
      "Utility:  -2.75 , Strategy:  2\n",
      "Utility:  -2.8 , Strategy:  2\n",
      "Utility:  -2.85 , Strategy:  2\n",
      "Utility:  -2.9 , Strategy:  2\n",
      "Utility:  -2.95 , Strategy:  2\n",
      "Utility:  -3.0 , Strategy:  2\n",
      "Utility:  -3.05 , Strategy:  2\n",
      "Utility:  -3.1 , Strategy:  2\n",
      "Utility:  -3.15 , Strategy:  2\n",
      "Utility:  -3.2 , Strategy:  2\n",
      "Utility:  -3.25 , Strategy:  2\n",
      "Utility:  -3.3 , Strategy:  2\n",
      "Utility:  -3.35 , Strategy:  2\n",
      "Utility:  -3.4 , Strategy:  2\n",
      "Utility:  -3.45 , Strategy:  2\n",
      "Utility:  -3.5 , Strategy:  2\n"
     ]
    }
   ],
   "source": [
    "sorted_agents = sorted(agents, key=lambda agent: sum(agent.position_history) + agent.waiting_utility, reverse=True)\n",
    "for i in range (nr_of_agents):\n",
    "    print(\"Utility: \", sum(sorted_agents[i].position_history) + sorted_agents[i].waiting_utility, \", Strategy: \", sorted_agents[i].strategy)"
   ]
  }
 ],
 "metadata": {
  "kernelspec": {
   "display_name": ".venv",
   "language": "python",
   "name": "python3"
  },
  "language_info": {
   "codemirror_mode": {
    "name": "ipython",
    "version": 3
   },
   "file_extension": ".py",
   "mimetype": "text/x-python",
   "name": "python",
   "nbconvert_exporter": "python",
   "pygments_lexer": "ipython3",
   "version": "3.12.3"
  }
 },
 "nbformat": 4,
 "nbformat_minor": 2
}
