{
 "cells": [
  {
   "cell_type": "code",
   "execution_count": 125,
   "metadata": {},
   "outputs": [],
   "source": [
    "import numpy as np\n",
    "import itertools"
   ]
  },
  {
   "cell_type": "code",
   "execution_count": 126,
   "metadata": {},
   "outputs": [
    {
     "name": "stdout",
     "output_type": "stream",
     "text": [
      "[(0, 0), (0, 1), (0, 2), (1, 1), (1, 2), (2, 2)]\n"
     ]
    }
   ],
   "source": [
    "timesteps = list(range(3))\n",
    "\n",
    "actions = list(itertools.combinations_with_replacement(timesteps,2))\n",
    "print(actions)"
   ]
  },
  {
   "cell_type": "code",
   "execution_count": 127,
   "metadata": {},
   "outputs": [],
   "source": [
    "def compute_utilities(strategy_1, strategy_2, n_players, n_concerts, n_lines):\n",
    "\n",
    "    utilities = np.zeros(n_players)\n",
    "    strategies = [strategy_1, strategy_2]\n",
    "\n",
    "    positions_which_concert = np.zeros(n_players)\n",
    "    positions_which_line = np.ones(n_players, dtype= float) * np.mean(sum(range(1,n_lines + 1))) # assume mean line value for every player in first concert\n",
    "    time_spent_at_current_stage = np.zeros(n_players)\n",
    "\n",
    "    # iterate through time\n",
    "    for time in range(3):\n",
    "        \n",
    "        # update positions\n",
    "        for player in range(n_players):\n",
    "\n",
    "            player_strategy = strategies[player]\n",
    "            \n",
    "            # check if player will move\n",
    "            moved = 0\n",
    "            for i in range(len(player_strategy)):\n",
    "\n",
    "                if (player_strategy[i] == time):\n",
    "                    positions_which_concert[player] = i + 1 # eg player_strategy[i] = 0 means go to concert 1 at time 0. \n",
    "                    time_spent_at_current_stage[player] = 0\n",
    "                    moved = 1\n",
    "\n",
    "            # increase time at current stage\n",
    "            if(not moved):\n",
    "                time_spent_at_current_stage[player] = time_spent_at_current_stage[player] + 1\n",
    "\n",
    "        # check which lines each player is at\n",
    "        for concert in range(n_concerts):\n",
    "            players = list(np.where(positions_which_concert == concert)[0])\n",
    "           \n",
    "            if(len(players) > 0):\n",
    "\n",
    "                count_players = 0\n",
    "           \n",
    "                for time_spent in range(int(max(time_spent_at_current_stage[players])),-1, -1):\n",
    "                    players_who_spent_this_time = list(np.where(time_spent_at_current_stage == time_spent)[0])\n",
    "                    players_correct_time_and_stage = list(np.intersect1d(players, players_who_spent_this_time))\n",
    "                    #print(players_correct_time_and_stage)\n",
    "\n",
    "                    n_players_same_time = len(players_correct_time_and_stage)\n",
    "                    \n",
    "                    if (n_players_same_time > 0):\n",
    "                        # assuming two players\n",
    "                        if (n_players_same_time == 1 and count_players == 0):\n",
    "                            positions_which_line[players_correct_time_and_stage] = 5\n",
    "                            count_players += 1\n",
    "                        elif (n_players_same_time == 1 and count_players == 1):\n",
    "                            positions_which_line[players_correct_time_and_stage] = 1\n",
    "                        else:\n",
    "                            positions_which_line[players_correct_time_and_stage] = 3\n",
    "    \n",
    "        # check current concert and update utilities for each player\n",
    "        for player in range(n_players):\n",
    "            if (positions_which_concert[player] == time):\n",
    "                if(time == 0):\n",
    "                    utilities[player] += 0\n",
    "                else:\n",
    "                    utilities[player] += 1*positions_which_line[player]\n",
    "            else:\n",
    "                utilities[player] -= 2\n",
    "\n",
    "    return utilities\n"
   ]
  },
  {
   "cell_type": "code",
   "execution_count": 128,
   "metadata": {},
   "outputs": [
    {
     "name": "stdout",
     "output_type": "stream",
     "text": [
      "Normal form P1\n",
      "[[-1.  1.  1.  1.  1.  1.]\n",
      " [-3. -1.  1. -1.  1.  1.]\n",
      " [ 4.  4.  4.  4.  6.  6.]\n",
      " [-1.  1.  3.  1.  3.  3.]\n",
      " [ 6.  6.  4.  6.  6.  8.]\n",
      " [-1. -1.  1. -1.  1.  1.]]\n",
      "\n",
      "Normal form P2\n",
      "[[-1. -3.  4. -1.  6. -1.]\n",
      " [ 1. -1.  4.  1.  6. -1.]\n",
      " [ 1.  1.  4.  3.  4.  1.]\n",
      " [ 1. -1.  4.  1.  6. -1.]\n",
      " [ 1.  1.  6.  3.  6.  1.]\n",
      " [ 1.  1.  6.  3.  8.  1.]]\n"
     ]
    }
   ],
   "source": [
    "n_concerts = 3\n",
    "n_lines = 2\n",
    "n_players = 2\n",
    "\n",
    "n_actions = len(actions)\n",
    "\n",
    "utilities_normal_form_P1 = np.zeros((n_actions, n_actions))\n",
    "utilities_normal_form_P2 = np.zeros((n_actions, n_actions))\n",
    "\n",
    "for i in range(n_actions):\n",
    "    for j in range(n_actions):\n",
    "        utilities = compute_utilities(actions[i], actions[j], n_players, n_concerts, n_lines)\n",
    "        utilities_normal_form_P1[i][j] = utilities[0]\n",
    "        utilities_normal_form_P2[i][j] = utilities[1]\n",
    "\n",
    "print(\"Normal form P1\")\n",
    "print(utilities_normal_form_P1)\n",
    "print()\n",
    "print(\"Normal form P2\")\n",
    "print(utilities_normal_form_P2)\n"
   ]
  },
  {
   "cell_type": "code",
   "execution_count": 129,
   "metadata": {},
   "outputs": [
    {
     "name": "stdout",
     "output_type": "stream",
     "text": [
      "(array([0., 0., 1., 0., 0., 0.]), array([0., 0., 1., 0., 0., 0.]))\n",
      "(array([0., 0., 1., 0., 0., 0.]), array([0., 0., 0., 0., 1., 0.]))\n",
      "(array([0., 0., 0., 0., 1., 0.]), array([0., 0., 1., 0., 0., 0.]))\n",
      "(array([0., 0., 0., 0., 1., 0.]), array([0., 0., 0., 0., 1., 0.]))\n",
      "[[-1.  1.  1.  1.  1.  1.]\n",
      " [-3. -1.  1. -1.  1.  1.]\n",
      " [ 4.  4.  4.  4.  6.  6.]\n",
      " [-1.  1.  3.  1.  3.  3.]\n",
      " [ 6.  6.  4.  6.  6.  8.]\n",
      " [-1. -1.  1. -1.  1.  1.]]\n",
      "<generator object support_enumeration at 0x000002277FED7480>\n"
     ]
    },
    {
     "name": "stderr",
     "output_type": "stream",
     "text": [
      "c:\\Users\\mathi\\AppData\\Local\\Programs\\Python\\Python311\\Lib\\site-packages\\nashpy\\algorithms\\support_enumeration.py:260: RuntimeWarning: \n",
      "An even number of (4) equilibria was returned. This\n",
      "indicates that the game is degenerate. Consider using another algorithm\n",
      "to investigate.\n",
      "                  \n",
      "  warnings.warn(warning, RuntimeWarning)\n"
     ]
    }
   ],
   "source": [
    "import nashpy as nash\n",
    "\n",
    "game = nash.Game(utilities_normal_form_P1, utilities_normal_form_P2)\n",
    "equilibria = game.support_enumeration()\n",
    "for eq in equilibria:\n",
    "    print(eq)\n",
    "\n",
    "print(utilities_normal_form_P1)\n",
    "print(equilibria)\n"
   ]
  }
 ],
 "metadata": {
  "kernelspec": {
   "display_name": "Python 3",
   "language": "python",
   "name": "python3"
  },
  "language_info": {
   "codemirror_mode": {
    "name": "ipython",
    "version": 3
   },
   "file_extension": ".py",
   "mimetype": "text/x-python",
   "name": "python",
   "nbconvert_exporter": "python",
   "pygments_lexer": "ipython3",
   "version": "3.11.3"
  }
 },
 "nbformat": 4,
 "nbformat_minor": 2
}
