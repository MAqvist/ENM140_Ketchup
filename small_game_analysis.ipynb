{
 "cells": [
  {
   "cell_type": "markdown",
   "metadata": {},
   "source": [
    "# Analysis of a small game"
   ]
  },
  {
   "cell_type": "code",
   "execution_count": 2,
   "metadata": {},
   "outputs": [],
   "source": [
    "import numpy as np\n",
    "import itertools\n",
    "import matplotlib.pyplot as plt\n",
    "import nashpy as nash\n",
    "\n",
    "\"\"\"\n",
    "plt.rcParams['font.family'] = ['serif']\n",
    "plt.rcParams['font.serif'] = ['CMU Serif']\n",
    "plt.rc('axes', unicode_minus=False)\n",
    "plt.rcParams['text.usetex'] = True\n",
    "\"\"\"\n",
    "\n",
    "from matplotlib import rcParams, rcParamsDefault\n",
    "rcParams.update(rcParamsDefault)"
   ]
  },
  {
   "cell_type": "markdown",
   "metadata": {},
   "source": [
    "Computation of utilities for one festival:"
   ]
  },
  {
   "cell_type": "code",
   "execution_count": 3,
   "metadata": {},
   "outputs": [],
   "source": [
    "def compute_utilities(strategy_1, strategy_2, n_players, n_concerts, n_lines, n_timesteps, timesteps_per_concert, utilities):\n",
    "\n",
    "    front_row_utility = utilities[0]\n",
    "    back_row_utility = utilities[1]\n",
    "    same_row_utility = utilities[2]\n",
    "    start_utility = utilities[3]\n",
    "    waiting_utility = utilities[4]\n",
    "\n",
    "    utilities = np.zeros(n_players)\n",
    "    strategies = [strategy_1, strategy_2]\n",
    "\n",
    "    positions_which_concert = np.zeros(n_players)\n",
    "    positions_which_line = np.ones(n_players, dtype = float) * np.mean(sum(range(1,n_lines + 1))) # assume mean line value for every player in first concert\n",
    "    time_spent_at_current_stage = np.zeros(n_players)\n",
    "\n",
    "    # iterate through time\n",
    "    for time in range(n_timesteps):\n",
    "        \n",
    "        # update positions\n",
    "        for player in range(n_players):\n",
    "\n",
    "            player_strategy = strategies[player]\n",
    "            \n",
    "            # check if player will move\n",
    "            moved = 0\n",
    "            for i in range(len(player_strategy)): # i is ranging over the number of actions\n",
    "\n",
    "                if (player_strategy[i] == time):\n",
    "                    positions_which_concert[player] = i + 1 # eg player_strategy[i] = 0 means go to concert i+1 at time 0. \n",
    "                    time_spent_at_current_stage[player] = 0\n",
    "                    moved = 1\n",
    "\n",
    "            # increase time at current stage\n",
    "            if(not moved):\n",
    "                time_spent_at_current_stage[player] = time_spent_at_current_stage[player] + 1\n",
    "\n",
    "        # check which line each player is at\n",
    "        for concert in range(n_concerts):\n",
    "            players = list(np.where(positions_which_concert == concert)[0])\n",
    "           \n",
    "            if(len(players) > 0):\n",
    "\n",
    "                count_players = 0\n",
    "           \n",
    "                for time_spent in range(int(max(time_spent_at_current_stage[players])),-1, -1):\n",
    "                    players_who_spent_this_time = list(np.where(time_spent_at_current_stage == time_spent)[0])\n",
    "                    players_correct_time_and_stage = list(np.intersect1d(players, players_who_spent_this_time))\n",
    "               \n",
    "                    n_players_same_time = len(players_correct_time_and_stage)\n",
    "                    \n",
    "                    if (n_players_same_time > 0):\n",
    "                        # assuming two players\n",
    "                        if (n_players_same_time == 1 and count_players == 0):\n",
    "                            positions_which_line[players_correct_time_and_stage] = front_row_utility\n",
    "                            count_players += 1\n",
    "                        elif (n_players_same_time == 1 and count_players == 1):\n",
    "                            positions_which_line[players_correct_time_and_stage] = back_row_utility\n",
    "                        else:\n",
    "                            positions_which_line[players_correct_time_and_stage] = same_row_utility\n",
    "    \n",
    "        # check current concert and update utilities for each player\n",
    "        current_concert = np.floor(time/timesteps_per_concert)\n",
    "        for player in range(n_players):\n",
    "            if (positions_which_concert[player] == current_concert): # if concert of player is current concert\n",
    "                if(time == 0):\n",
    "                    utilities[player] += start_utility\n",
    "                else:\n",
    "                    utilities[player] += positions_which_line[player]\n",
    "            else:\n",
    "                utilities[player] += waiting_utility\n",
    "\n",
    "    return utilities\n"
   ]
  },
  {
   "cell_type": "code",
   "execution_count": 4,
   "metadata": {},
   "outputs": [],
   "source": [
    "def generate_combinations(interval):\n",
    "    values = range(interval + 1)\n",
    "    combinations = list(itertools.product(values, repeat=2))\n",
    "    return np.array(combinations)"
   ]
  },
  {
   "cell_type": "markdown",
   "metadata": {},
   "source": [
    "Simulation of one festival to obtain normal form:"
   ]
  },
  {
   "cell_type": "code",
   "execution_count": 6,
   "metadata": {},
   "outputs": [],
   "source": [
    "def simulate_festival(utilities_param, interval):\n",
    "    n_concerts = 3\n",
    "    n_lines = 2\n",
    "    n_players = 2\n",
    "    timesteps_per_concert = 5\n",
    "    n_timesteps = (n_concerts -1) * timesteps_per_concert + 3\n",
    "\n",
    "    #timesteps = list(range(n_timesteps))\n",
    "    #actions = list(itertools.combinations_with_replacement(timesteps, n_concerts - 1))\n",
    "\n",
    "    # Example usage:\n",
    "    timestep = 5\n",
    "    interval = timestep * 2\n",
    "    combinations = generate_combinations(interval)\n",
    "    #print(\"comb\", combinations)\n",
    "    combinations_new = []\n",
    "    for x1, x2 in combinations:\n",
    "        if x1 > x2:\n",
    "            continue\n",
    "\n",
    "        if x1 > interval/2:\n",
    "            continue\n",
    "\n",
    "        if x1 < interval/2 and x2 <= interval/2 and x2 > 0 and x1 != x2:\n",
    "            continue\n",
    "\n",
    "        combinations_new.append([int(x1), int(x2)])  # Convert to regular int\n",
    "\n",
    "    #print(\"comb_new\", combinations_new)\n",
    "    #actions = combinations_new\n",
    "    \n",
    "    actions = [[1,6], [2,7], [3,8], [4,9], [5,10]] \n",
    "    #actions = [[1,6], [2,7], [3,8], [4,9], [5,10],[5,6], [1,10]] # strategy 1 to 5 and risk-takers\n",
    "    #actions = [[3,8], [4,9], [5,6]]\n",
    "\n",
    "    # remove unneccesary actions\n",
    "    #actions.pop(1)\n",
    "    #actions.pop(-1)\n",
    "    print(actions)\n",
    "    print()\n",
    "    n_actions = len(actions)\n",
    "    \n",
    "    utilities_normal_form_P1 = np.zeros((n_actions, n_actions))\n",
    "    utilities_normal_form_P2 = np.zeros((n_actions, n_actions))\n",
    "\n",
    "    for i in range(n_actions):\n",
    "        for j in range(n_actions):\n",
    "            utilities = compute_utilities(actions[i], actions[j], n_players, n_concerts, n_lines, n_timesteps, timesteps_per_concert, utilities_param)\n",
    "            utilities_normal_form_P1[i][j] = utilities[0]\n",
    "            utilities_normal_form_P2[i][j] = utilities[1]\n",
    "\n",
    "    print(\"Normal form P1\")\n",
    "    print(utilities_normal_form_P1)\n",
    "    print()\n",
    "    print(\"Normal form P2\")\n",
    "    print(utilities_normal_form_P2)\n",
    "\n",
    "    return utilities_normal_form_P1, utilities_normal_form_P2, n_actions, actions\n"
   ]
  },
  {
   "cell_type": "markdown",
   "metadata": {},
   "source": [
    "Compute evolutionary stable strategies (pure ones)"
   ]
  },
  {
   "cell_type": "code",
   "execution_count": 7,
   "metadata": {},
   "outputs": [
    {
     "name": "stdout",
     "output_type": "stream",
     "text": [
      "[[1, 6], [2, 7], [3, 8], [4, 9], [5, 10]]\n",
      "\n",
      "Normal form P1\n",
      "[[ 4.5 34.5 34.5 34.5 34.5]\n",
      " [20.5 11.5 49.  49.  49. ]\n",
      " [42.5 26.  18.5 63.5 63.5]\n",
      " [64.5 48.  31.5 25.5 78. ]\n",
      " [86.5 70.  53.5 37.  32.5]]\n",
      "\n",
      "Normal form P2\n",
      "[[ 4.5 20.5 42.5 64.5 86.5]\n",
      " [34.5 11.5 26.  48.  70. ]\n",
      " [34.5 49.  18.5 31.5 53.5]\n",
      " [34.5 49.  63.5 25.5 37. ]\n",
      " [34.5 49.  63.5 78.  32.5]]\n",
      "Start computing Nash eq\n"
     ]
    },
    {
     "name": "stderr",
     "output_type": "stream",
     "text": [
      "c:\\Users\\mathi\\OneDrive\\Dokument\\Master år 2\\LP2\\Game theory and rationality\\Project - repo\\ENM140_Ketchup\\.venv\\Lib\\site-packages\\nashpy\\algorithms\\support_enumeration.py:260: RuntimeWarning: \n",
      "An even number of (0) equilibria was returned. This\n",
      "indicates that the game is degenerate. Consider using another algorithm\n",
      "to investigate.\n",
      "                  \n",
      "  warnings.warn(warning, RuntimeWarning)\n"
     ]
    },
    {
     "name": "stdout",
     "output_type": "stream",
     "text": [
      "num eq:  0\n",
      "\n",
      "Equilibria\n",
      "[]\n",
      "2\n"
     ]
    },
    {
     "data": {
      "image/png": "[encoded data removed]",
      "text/plain": [
       "<Figure size 640x480 with 1 Axes>"
      ]
     },
     "metadata": {},
     "output_type": "display_data"
    },
    {
     "data": {
      "text/plain": [
       "'\\n# plot evolutionary result\\nfig, axes = plt.subplots(n_eq,1, sharex=\"col\")\\neq_counter = 0\\nfor i in range(0, n_eq):\\n    initial_pop = equilibria_start[eq_counter,:]\\n    eq_counter += 1\\n    populations = game.replicator_dynamics(y0 = initial_pop, timepoints = time).T\\n\\n    for k in range(n_actions):\\n        axes[i].plot(time, populations[k], label = labels[k])\\n        axes[i].set_ylim([-0.1,1.1])\\n\\n    if (eq_counter > n_eq - 1):\\n        break\\n\\naxes[0].legend(loc = \"upper right\")\\naxes[0].set_ylabel(r\\'proportion of population\\')\\naxes[1].set_ylabel(r\\'proportion of population\\')\\naxes[2].set_ylabel(r\\'proportion of population\\')\\naxes[2].set_xlabel(r\\'time\\')\\n\\nplt.show()\\n'"
      ]
     },
     "execution_count": 7,
     "metadata": {},
     "output_type": "execute_result"
    }
   ],
   "source": [
    "# parameters\n",
    "front_row_utility = 10\n",
    "back_row_utility = 1\n",
    "same_row_utility = 2.5\n",
    "start_utility = 2.5\n",
    "waiting_utility = -1\n",
    "utilities_param = [front_row_utility, back_row_utility, same_row_utility, start_utility, waiting_utility]\n",
    "\n",
    "interval = 10\n",
    "\n",
    "# simulate to get normal form\n",
    "utilities_normal_form_P1, utilities_normal_form_P2, n_actions, actions = simulate_festival(utilities_param, interval)\n",
    "\n",
    "print(\"Start computing Nash eq\")\n",
    "\n",
    "# compute nash equilibria\n",
    "game = nash.Game(utilities_normal_form_P1, utilities_normal_form_P2)\n",
    "\n",
    "\n",
    "equilibria = game.support_enumeration()\n",
    "n_eq = sum(1 for _ in equilibria)\n",
    "print(\"num eq: \", n_eq)\n",
    "\n",
    "equilibria = game.support_enumeration() # reset generator\n",
    "equilibria_start = np.zeros((n_eq, n_actions))\n",
    "eq_counter = 0\n",
    "for eq in equilibria:\n",
    "    print(eq)\n",
    "    equilibria_start[eq_counter,:] = eq[0]\n",
    "    eq_counter += 1\n",
    "\n",
    "print()\n",
    "print(\"Equilibria\")\n",
    "print(equilibria_start)\n",
    "\n",
    "\n",
    "\n",
    "# evolutionary simulation\n",
    "initial_pop = np.ones(n_actions) / n_actions\n",
    "#initial_pop = np.array([0.25, 0.25, 0.25, 0.25])\n",
    "#initial_pop = np.array([0.05, 0.05, 0.85, 0.05])\n",
    "#initial_pop = np.array([0.05, 0.05, 0.05, 0.85])\n",
    "#initial_pop = np.array([0.001,0.997,0.001,0.001])\n",
    "\n",
    "time = np.linspace(0, 10, 1000)\n",
    "populations = game.replicator_dynamics(y0 = initial_pop, timepoints = time).T\n",
    "\n",
    "print(np.argmax(populations[:,-1]))\n",
    "\n",
    "\n",
    "#labels = [\"que direcly for concert 2\", \"que for concert 1, watch 1 and 2\", \"watch concert 0, then que for 2\", \"watch all concerts\"]\n",
    "fig, axes = plt.subplots(1,1)\n",
    "for k in range(n_actions):\n",
    "    \n",
    "    axes.plot(time, populations[k], label = str(actions[k]))\n",
    "    \n",
    "    axes.set_ylabel(r'proportion of population')\n",
    "    axes.set_xlabel(r'time')\n",
    "    axes.set_ylim([-0.1,1.1])\n",
    "axes.legend(loc = \"upper left\")\n",
    "plt.show()\n",
    "\n",
    "\"\"\"\n",
    "# plot evolutionary result\n",
    "fig, axes = plt.subplots(n_eq,1, sharex=\"col\")\n",
    "eq_counter = 0\n",
    "for i in range(0, n_eq):\n",
    "    initial_pop = equilibria_start[eq_counter,:]\n",
    "    eq_counter += 1\n",
    "    populations = game.replicator_dynamics(y0 = initial_pop, timepoints = time).T\n",
    "\n",
    "    for k in range(n_actions):\n",
    "        axes[i].plot(time, populations[k], label = labels[k])\n",
    "        axes[i].set_ylim([-0.1,1.1])\n",
    "\n",
    "    if (eq_counter > n_eq - 1):\n",
    "        break\n",
    "\n",
    "axes[0].legend(loc = \"upper right\")\n",
    "axes[0].set_ylabel(r'proportion of population')\n",
    "axes[1].set_ylabel(r'proportion of population')\n",
    "axes[2].set_ylabel(r'proportion of population')\n",
    "axes[2].set_xlabel(r'time')\n",
    "\n",
    "plt.show()\n",
    "\"\"\"\n"
   ]
  },
  {
   "cell_type": "markdown",
   "metadata": {},
   "source": [
    "Below: several agents"
   ]
  },
  {
   "cell_type": "code",
   "execution_count": 39,
   "metadata": {},
   "outputs": [
    {
     "name": "stdout",
     "output_type": "stream",
     "text": [
      "[(0, 0), (0, 1), (0, 2), (0, 3), (0, 4), (0, 5), (0, 6), (0, 7), (0, 8), (0, 9), (1, 1), (1, 2), (1, 3), (1, 4), (1, 5), (1, 6), (1, 7), (1, 8), (1, 9), (2, 2), (2, 3), (2, 4), (2, 5), (2, 6), (2, 7), (2, 8), (2, 9), (3, 3), (3, 4), (3, 5), (3, 6), (3, 7), (3, 8), (3, 9), (4, 4), (4, 5), (4, 6), (4, 7), (4, 8), (4, 9), (5, 5), (5, 6), (5, 7), (5, 8), (5, 9), (6, 6), (6, 7), (6, 8), (6, 9), (7, 7), (7, 8), (7, 9), (8, 8), (8, 9), (9, 9)]\n",
      "\n",
      "55\n",
      "Normal form P1\n",
      "[[ 0.  8.  8. ...  8.  8.  8.]\n",
      " [-2.  0.  8. ...  8.  8.  8.]\n",
      " [ 9.  9.  3. ... 19. 19. 19.]\n",
      " ...\n",
      " [ 0.  0.  0. ...  0.  0.  0.]\n",
      " [ 0.  0.  0. ...  0.  0.  0.]\n",
      " [ 0.  0.  0. ...  0.  0.  0.]]\n",
      "\n",
      "Normal form P2\n",
      "[[ 0. -2.  9. ...  0.  0.  0.]\n",
      " [ 8.  0.  9. ...  0.  0.  0.]\n",
      " [ 8.  8.  3. ...  0.  0.  0.]\n",
      " ...\n",
      " [ 8.  8. 19. ...  0.  0.  0.]\n",
      " [ 8.  8. 19. ...  0.  0.  0.]\n",
      " [ 8.  8. 19. ...  0.  0.  0.]]\n",
      "(55, 1000)\n"
     ]
    },
    {
     "data": {
      "image/png": "[encoded data removed]",
      "text/plain": [
       "<Figure size 640x480 with 1 Axes>"
      ]
     },
     "metadata": {},
     "output_type": "display_data"
    }
   ],
   "source": [
    "front_row_utility = 10\n",
    "back_row_utility = 0\n",
    "same_row_utility = 2\n",
    "start_utility = 2\n",
    "waiting_utility = -1\n",
    "utilities_param = [front_row_utility, back_row_utility, same_row_utility, start_utility, waiting_utility]\n",
    "n_actions = 55\n",
    "\n",
    "# simulate to get normal form\n",
    "utilities_normal_form_P1, utilities_normal_form_P2 = simulate_festival(utilities_param)\n",
    "\n",
    "# compute nash equilibria\n",
    "game = nash.Game(utilities_normal_form_P1, utilities_normal_form_P2)\n",
    "\n",
    "\"\"\"\n",
    "equilibria = game.support_enumeration()\n",
    "n_eq = sum(1 for _ in equilibria)\n",
    "\n",
    "\n",
    "equilibria = game.support_enumeration() # reset generator\n",
    "equilibria_start = np.zeros((5, 4))\n",
    "eq_counter = 0\n",
    "for eq in equilibria:\n",
    "    print(eq)\n",
    "    equilibria_start[eq_counter,:] = eq[0]\n",
    "    eq_counter += 1\n",
    "\n",
    "print()\n",
    "print(\"Equilibria\")\n",
    "print(equilibria_start)\n",
    "\"\"\"\"project_Mathilda copy 2.ipynb\"\n",
    "\n",
    "# evolutionary simulation\n",
    "#initial_pop = np.array([0.25, 0.25, 0.25, 0.25])\n",
    "initial_pop = np.ones(n_actions)*1/n_actions\n",
    "# initial_pop = equilibria_start[2,:]\n",
    "time = np.linspace(0, 20, 1000)\n",
    "populations = game.replicator_dynamics(y0 = initial_pop, timepoints = time).T\n",
    "print(populations.shape)\n",
    "# plot evolutionary result\n",
    "fig, axes = plt.subplots(1,1)\n",
    "\n",
    "#labels = [\"que direcly for concert 2\", \"que for concert 1, watch 1 and 2\", \"watch concert 0, then que for 2\", \"watch all concerts\"]\n",
    "best_values = np.argsort(populations[:, -1])\n",
    "best5 = best_values[-5:]\n",
    "\n",
    "for k in range(n_actions):\n",
    "    \n",
    "    if(k in best5):\n",
    "        axes.plot(time, populations[k], label = k)\n",
    "    else:\n",
    "        axes.plot(time, populations[k])\n",
    "    axes.legend(loc = \"lower left\")\n",
    "    axes.set_ylabel(r'part of population')\n",
    "    axes.set_xlabel(r'time')\n",
    "    #axes.set_ylim([-0.1,1.1])\n",
    "\n",
    "#max_values = np.argmax(populations[:,-1])\n",
    "\n",
    "#print(max_values)\n",
    "\n",
    "#print(np.ar(populations[:,-1], ))\n",
    "\n",
    "\n",
    "plt.show()"
   ]
  },
  {
   "cell_type": "code",
   "execution_count": 37,
   "metadata": {},
   "outputs": [
    {
     "name": "stdout",
     "output_type": "stream",
     "text": [
      "0.00641825717756186\n"
     ]
    }
   ],
   "source": [
    "print(sum(populations[:,8]))"
   ]
  }
 ],
 "metadata": {
  "kernelspec": {
   "display_name": ".venv",
   "language": "python",
   "name": "python3"
  },
  "language_info": {
   "codemirror_mode": {
    "name": "ipython",
    "version": 3
   },
   "file_extension": ".py",
   "mimetype": "text/x-python",
   "name": "python",
   "nbconvert_exporter": "python",
   "pygments_lexer": "ipython3",
   "version": "3.11.3"
  }
 },
 "nbformat": 4,
 "nbformat_minor": 2
}
